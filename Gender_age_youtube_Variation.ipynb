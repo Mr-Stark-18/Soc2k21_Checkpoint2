{
  "nbformat": 4,
  "nbformat_minor": 0,
  "metadata": {
    "colab": {
      "name": "Gender_age_youtube Variation.ipynb",
      "provenance": [],
      "authorship_tag": "ABX9TyMIqjN6AFrKdJetZScct+mm",
      "include_colab_link": true
    },
    "kernelspec": {
      "name": "python3",
      "display_name": "Python 3"
    },
    "language_info": {
      "name": "python"
    }
  },
  "cells": [
    {
      "cell_type": "markdown",
      "metadata": {
        "id": "view-in-github",
        "colab_type": "text"
      },
      "source": [
        "<a href=\"https://colab.research.google.com/github/Mr-Stark-18/Soc2k21_Checkpoint2/blob/main/Gender_age_youtube_Variation.ipynb\" target=\"_parent\"><img src=\"https://colab.research.google.com/assets/colab-badge.svg\" alt=\"Open In Colab\"/></a>"
      ]
    },
    {
      "cell_type": "code",
      "metadata": {
        "colab": {
          "base_uri": "https://localhost:8080/"
        },
        "id": "cEngdH8EZaay",
        "outputId": "f6a9a847-94d2-4aa1-9f01-cca03967a083"
      },
      "source": [
        "!pip install pafy\n",
        "!pip install youtube-dl"
      ],
      "execution_count": 1,
      "outputs": [
        {
          "output_type": "stream",
          "text": [
            "Collecting pafy\n",
            "  Downloading https://files.pythonhosted.org/packages/74/69/829919eeadff695338f98fa12bb99e45490761a2010c8d688d88b6df194a/pafy-0.5.5-py2.py3-none-any.whl\n",
            "Installing collected packages: pafy\n",
            "Successfully installed pafy-0.5.5\n",
            "Collecting youtube-dl\n",
            "\u001b[?25l  Downloading https://files.pythonhosted.org/packages/a4/43/1f586e49e68f8b41c4be416302bf96ddd5040b0e744b5902d51063795eb9/youtube_dl-2021.6.6-py2.py3-none-any.whl (1.9MB)\n",
            "\u001b[K     |████████████████████████████████| 1.9MB 6.1MB/s \n",
            "\u001b[?25hInstalling collected packages: youtube-dl\n",
            "Successfully installed youtube-dl-2021.6.6\n"
          ],
          "name": "stdout"
        }
      ]
    },
    {
      "cell_type": "code",
      "metadata": {
        "colab": {
          "base_uri": "https://localhost:8080/"
        },
        "id": "Pc82qK6VZrKi",
        "outputId": "efc9711d-ee45-45cb-da99-0e8ee6daa7dd"
      },
      "source": [
        "from google.colab import drive\n",
        "drive.mount('/content/drive')"
      ],
      "execution_count": 9,
      "outputs": [
        {
          "output_type": "stream",
          "text": [
            "Drive already mounted at /content/drive; to attempt to forcibly remount, call drive.mount(\"/content/drive\", force_remount=True).\n"
          ],
          "name": "stdout"
        }
      ]
    },
    {
      "cell_type": "code",
      "metadata": {
        "id": "IkamqC8LZ09d"
      },
      "source": [
        "import os\n",
        "path = '/content/drive/MyDrive/SoC2k21/My_pretrained'\n",
        "output_dir = '/content'"
      ],
      "execution_count": 10,
      "outputs": []
    },
    {
      "cell_type": "code",
      "metadata": {
        "colab": {
          "base_uri": "https://localhost:8080/",
          "height": 374
        },
        "id": "SiFjITfZaT00",
        "outputId": "f9a97659-74ac-468a-fd8e-e97661a9f30b"
      },
      "source": [
        "import cv2\n",
        "import numpy as np\n",
        "import pafy\n",
        "import time\n",
        "\n",
        "from google.colab.patches import cv2_imshow\n",
        "\n",
        "n=2\n",
        "\n",
        "fourcc = cv2.VideoWriter_fourcc(*'XVID')\n",
        "w,h = 1280,720\n",
        "fourcc = cv2.VideoWriter_fourcc('m','p','4','v')\n",
        "output_fps=30\n",
        "output_movie = cv2.VideoWriter(os.path.join(output_dir,'output_video.avi'),fourcc,output_fps,(w,h))\n",
        "\n",
        "url = 'https://www.youtube.com/watch?v=iH1ZJVqJO3Y'\n",
        "vPafy = pafy.new(url)\n",
        "play = vPafy.getbest(preftype='mp4')\n",
        "\n",
        "cap = cv2.VideoCapture(play.url)\n",
        "cap.set(3,480)\n",
        "cap.set(4,640)\n",
        "\n",
        "MODEL_MEAN_VALUES = (78.4263377603,87.7689143744,114.895847746)\n",
        "age_list = ['(0,2)','(4,6)','(8,12)','(15,20)','(25,32)','(38,43)','(48,53)','(60,100)']\n",
        "\n",
        "gender_list =['Male','Female']\n",
        "\n",
        "def load_caffe_models():\n",
        "\n",
        "  age_net = cv2.dnn.readNetFromCaffe(os.path.join(path,'deploy_age.prototxt'),os.path.join(path,'age_net.caffemodel'))\n",
        "\n",
        "  gender_net = cv2.dnn.readNetFromCaffe(os.path.join(path,'deploy_gender.prototxt'),os.path.join(path,'gender_net.caffemodel'))\n",
        "\n",
        "  return (age_net, gender_net)\n",
        "\n",
        "def video_detector(age_net, gender_net):\n",
        "  font = cv2.FONT_HERSHEY_SIMPLEX\n",
        "  framecount=0\n",
        "  while framecount < n*output_fps:\n",
        "\n",
        "    ret, image = cap.read()\n",
        "    framecount = framecount+1\n",
        "\n",
        "    face_cascade = cv2.CascadeClassifier(cv2.data.haarcascades + 'haarcascade_frontalface_alt.xml')\n",
        "    eye_cascade = cv2.CascadeClassifier(cv2.data.haarcascades+'haarcascade_eye.xml')\n",
        "\n",
        "    gray = cv2.cvtColor(image,cv2.COLOR_BGR2GRAY)\n",
        "    faces=face_cascade.detectMultiScale(gray,1.1,5)\n",
        "    for (x,y,w,h)in faces:\n",
        "      cv2.rectangle(image,(x,y),(x+w,y+h),(255,255,0),2)\n",
        "\n",
        "      face_img = image[y:y+h,h:h+w].copy()\n",
        "      blob = cv2.dnn.blobFromImage(face_img,1,(227,227),MODEL_MEAN_VALUES,swapRB=False)\n",
        "\n",
        "      gender_net.setInput(blob)\n",
        "      gender_preds = gender_net.forward()\n",
        "      gender = gender_list[gender_preds[0].argmax()]\n",
        "\n",
        "      age_net.setInput(blob)\n",
        "      age_preds = age_net.forward()\n",
        "      age = age_list[age_preds[0].argmax()]\n",
        "\n",
        "      overlay_text = \"%s %s\" % (gender,age)\n",
        "      cv2.putText(image,overlay_text,(x,y),font,1,(255,255,255),2,cv2.LINE_AA)\n",
        "    output_movie.write(image)\n",
        "\n",
        "  output_movie.release()\n",
        "  print(framecount)\n",
        "\n",
        "age_net, gender_net = load_caffe_models()\n",
        "\n",
        "video_detector(age_net,gender_net)\n"
      ],
      "execution_count": 12,
      "outputs": [
        {
          "output_type": "error",
          "ename": "error",
          "evalue": "ignored",
          "traceback": [
            "\u001b[0;31m---------------------------------------------------------------------------\u001b[0m",
            "\u001b[0;31merror\u001b[0m                                     Traceback (most recent call last)",
            "\u001b[0;32m<ipython-input-12-0087db874994>\u001b[0m in \u001b[0;36m<module>\u001b[0;34m()\u001b[0m\n\u001b[1;32m     69\u001b[0m   \u001b[0mprint\u001b[0m\u001b[0;34m(\u001b[0m\u001b[0mframecount\u001b[0m\u001b[0;34m)\u001b[0m\u001b[0;34m\u001b[0m\u001b[0;34m\u001b[0m\u001b[0m\n\u001b[1;32m     70\u001b[0m \u001b[0;34m\u001b[0m\u001b[0m\n\u001b[0;32m---> 71\u001b[0;31m \u001b[0mage_net\u001b[0m\u001b[0;34m,\u001b[0m \u001b[0mgender_net\u001b[0m \u001b[0;34m=\u001b[0m \u001b[0mload_caffe_models\u001b[0m\u001b[0;34m(\u001b[0m\u001b[0;34m)\u001b[0m\u001b[0;34m\u001b[0m\u001b[0;34m\u001b[0m\u001b[0m\n\u001b[0m\u001b[1;32m     72\u001b[0m \u001b[0;34m\u001b[0m\u001b[0m\n\u001b[1;32m     73\u001b[0m \u001b[0mvideo_detector\u001b[0m\u001b[0;34m(\u001b[0m\u001b[0mage_net\u001b[0m\u001b[0;34m,\u001b[0m\u001b[0mgender_net\u001b[0m\u001b[0;34m)\u001b[0m\u001b[0;34m\u001b[0m\u001b[0;34m\u001b[0m\u001b[0m\n",
            "\u001b[0;32m<ipython-input-12-0087db874994>\u001b[0m in \u001b[0;36mload_caffe_models\u001b[0;34m()\u001b[0m\n\u001b[1;32m     29\u001b[0m \u001b[0;32mdef\u001b[0m \u001b[0mload_caffe_models\u001b[0m\u001b[0;34m(\u001b[0m\u001b[0;34m)\u001b[0m\u001b[0;34m:\u001b[0m\u001b[0;34m\u001b[0m\u001b[0;34m\u001b[0m\u001b[0m\n\u001b[1;32m     30\u001b[0m \u001b[0;34m\u001b[0m\u001b[0m\n\u001b[0;32m---> 31\u001b[0;31m   \u001b[0mage_net\u001b[0m \u001b[0;34m=\u001b[0m \u001b[0mcv2\u001b[0m\u001b[0;34m.\u001b[0m\u001b[0mdnn\u001b[0m\u001b[0;34m.\u001b[0m\u001b[0mreadNetFromCaffe\u001b[0m\u001b[0;34m(\u001b[0m\u001b[0mos\u001b[0m\u001b[0;34m.\u001b[0m\u001b[0mpath\u001b[0m\u001b[0;34m.\u001b[0m\u001b[0mjoin\u001b[0m\u001b[0;34m(\u001b[0m\u001b[0mpath\u001b[0m\u001b[0;34m,\u001b[0m\u001b[0;34m'deploy_age.prototxt'\u001b[0m\u001b[0;34m)\u001b[0m\u001b[0;34m,\u001b[0m\u001b[0mos\u001b[0m\u001b[0;34m.\u001b[0m\u001b[0mpath\u001b[0m\u001b[0;34m.\u001b[0m\u001b[0mjoin\u001b[0m\u001b[0;34m(\u001b[0m\u001b[0mpath\u001b[0m\u001b[0;34m,\u001b[0m\u001b[0;34m'age_net.caffemodel'\u001b[0m\u001b[0;34m)\u001b[0m\u001b[0;34m)\u001b[0m\u001b[0;34m\u001b[0m\u001b[0;34m\u001b[0m\u001b[0m\n\u001b[0m\u001b[1;32m     32\u001b[0m \u001b[0;34m\u001b[0m\u001b[0m\n\u001b[1;32m     33\u001b[0m   \u001b[0mgender_net\u001b[0m \u001b[0;34m=\u001b[0m \u001b[0mcv2\u001b[0m\u001b[0;34m.\u001b[0m\u001b[0mdnn\u001b[0m\u001b[0;34m.\u001b[0m\u001b[0mreadNetFromCaffe\u001b[0m\u001b[0;34m(\u001b[0m\u001b[0mos\u001b[0m\u001b[0;34m.\u001b[0m\u001b[0mpath\u001b[0m\u001b[0;34m.\u001b[0m\u001b[0mjoin\u001b[0m\u001b[0;34m(\u001b[0m\u001b[0mpath\u001b[0m\u001b[0;34m,\u001b[0m\u001b[0;34m'deploy_gender.prototxt'\u001b[0m\u001b[0;34m)\u001b[0m\u001b[0;34m,\u001b[0m\u001b[0mos\u001b[0m\u001b[0;34m.\u001b[0m\u001b[0mpath\u001b[0m\u001b[0;34m.\u001b[0m\u001b[0mjoin\u001b[0m\u001b[0;34m(\u001b[0m\u001b[0mpath\u001b[0m\u001b[0;34m,\u001b[0m\u001b[0;34m'gender_net.caffemodel'\u001b[0m\u001b[0;34m)\u001b[0m\u001b[0;34m)\u001b[0m\u001b[0;34m\u001b[0m\u001b[0;34m\u001b[0m\u001b[0m\n",
            "\u001b[0;31merror\u001b[0m: OpenCV(4.1.2) /io/opencv/modules/dnn/src/caffe/caffe_io.cpp:1121: error: (-2:Unspecified error) FAILED: fs.is_open(). Can't open \"/content/drive/MyDrive/SoC2k21/My_pretrained/deploy_age.prototxt\" in function 'ReadProtoFromTextFile'\n"
          ]
        }
      ]
    },
    {
      "cell_type": "code",
      "metadata": {
        "id": "wkkvaDz2ccPD"
      },
      "source": [
        ""
      ],
      "execution_count": null,
      "outputs": []
    }
  ]
}