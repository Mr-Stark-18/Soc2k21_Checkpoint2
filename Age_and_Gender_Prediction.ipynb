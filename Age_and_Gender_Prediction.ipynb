{
  "nbformat": 4,
  "nbformat_minor": 0,
  "metadata": {
    "colab": {
      "name": "Age and Gender Prediction.ipynb",
      "provenance": [],
      "authorship_tag": "ABX9TyMrcR6fyDoajOsprOzddjde",
      "include_colab_link": true
    },
    "kernelspec": {
      "name": "python3",
      "display_name": "Python 3"
    },
    "language_info": {
      "name": "python"
    }
  },
  "cells": [
    {
      "cell_type": "markdown",
      "metadata": {
        "id": "view-in-github",
        "colab_type": "text"
      },
      "source": [
        "<a href=\"https://colab.research.google.com/github/Mr-Stark-18/Soc2k21_Checkpoint2/blob/main/Age_and_Gender_Prediction.ipynb\" target=\"_parent\"><img src=\"https://colab.research.google.com/assets/colab-badge.svg\" alt=\"Open In Colab\"/></a>"
      ]
    },
    {
      "cell_type": "code",
      "metadata": {
        "id": "s_eED8k3pMt7"
      },
      "source": [
        "import cv2\n",
        "import math\n",
        "import os"
      ],
      "execution_count": 1,
      "outputs": []
    },
    {
      "cell_type": "code",
      "metadata": {
        "colab": {
          "base_uri": "https://localhost:8080/",
          "height": 166
        },
        "id": "ejuqvCDwPxB3",
        "outputId": "1e3daa88-09ff-4859-b941-116f851d7964"
      },
      "source": [
        "os.chdir()"
      ],
      "execution_count": 2,
      "outputs": [
        {
          "output_type": "error",
          "ename": "TypeError",
          "evalue": "ignored",
          "traceback": [
            "\u001b[0;31m---------------------------------------------------------------------------\u001b[0m",
            "\u001b[0;31mTypeError\u001b[0m                                 Traceback (most recent call last)",
            "\u001b[0;32m<ipython-input-2-f96d23f60c03>\u001b[0m in \u001b[0;36m<module>\u001b[0;34m()\u001b[0m\n\u001b[0;32m----> 1\u001b[0;31m \u001b[0mos\u001b[0m\u001b[0;34m.\u001b[0m\u001b[0mchdir\u001b[0m\u001b[0;34m(\u001b[0m\u001b[0;34m)\u001b[0m\u001b[0;34m\u001b[0m\u001b[0;34m\u001b[0m\u001b[0m\n\u001b[0m",
            "\u001b[0;31mTypeError\u001b[0m: chdir() missing required argument 'path' (pos 1)"
          ]
        }
      ]
    },
    {
      "cell_type": "code",
      "metadata": {
        "colab": {
          "base_uri": "https://localhost:8080/",
          "height": 253
        },
        "id": "tKUinjRTQVns",
        "outputId": "3972372b-db0c-41b7-8c9e-44d3a00eb2ce"
      },
      "source": [
        "def highlightFace(net,frame,conf_threshold=0.7):\n",
        "  frameOpencvOnn = frame.copy()\n",
        "  frameHeight = frameOpencvOnn.shape[0]\n",
        "  frameWidth = frameOpencvOnn.shape[1]\n",
        "  blop = cv2.dnn.blobFromImage(frameOpencvOnn,1.0,(300,300),[104,117,123],True,False)\n",
        "  net.setInput(blob)\n",
        "  detection = net.forward()\n",
        "  faceBoxes=[]\n",
        "  for i in range(detections.shape[2]):\n",
        "    confidence=detections[0,0,i,2]\n",
        "    if confidence>conf_threshold:\n",
        "      x1=int(detection[0,0,i,3]*frameWidth)\n",
        "      y1=int(detections[0,0,i,4]*frameHeight)\n",
        "      x2=int(detections[0,0,i,5]*frameWidth)\n",
        "      y2=int(detections[0,0,i,6]*frameHeight)\n",
        "      faceBoxes.append([x1,y1,x2,y2])\n",
        "      cv2.rectangle(frameOpencvOnn,(x1,y1),(x2,y2),(0,255,0),int(round(frameHeight/150)),8)\n",
        "  return frameOpencvOnn,faceBoxes\n",
        "\n",
        "faceProto=\"opencv_face_detector.pbtxt\"\n",
        "faceModel=\"opencv_face_detector_uint8.pb\"\n",
        "ageProto=\"age_deploy.prototxt\"\n",
        "agemodel=\"age_net.caffemodel\"\n",
        "genderProto=\"gender_deploy.prototxt\"\n",
        "genderModel=\"gender_net.caffemodel\"\n",
        "\n",
        "MODEL_MEAN_VALUES=(103.93,116.77,123.68)\n",
        "ageList=['(0-2)','(4-6)','(8-12)','(15-20)','(25-32)','(38-43)','(48-53)','(60-100)']\n",
        "genderList=['Male','Female']\n",
        "faceNet=cv2.dnn.readNet(faceModel,faceProto)\n",
        "\n",
        "ageNet=cv2.dnn.readNet(ageModel,ageProto)\n",
        "genderNet=cv2.dnn.readNet(genderModel,genderProto)\n",
        "\n",
        "video=cv2.VideoCapture(0)\n",
        "pedding=20\n",
        "while cv2.waitKey(1)<0:\n",
        "  hasFrame,framevideo.read()\n",
        "  if not hasFrame:\n",
        "    cv2.waitKey()\n",
        "    break\n",
        "\n",
        "  resultImg,faceBoxes=detectFace(faceNet,frame)\n",
        "\n",
        "  if not faceBoxes:\n",
        "    print(\"No face found\")\n",
        "  \n",
        "  for faceBox in faceBoxes:\n",
        "    face=frame[max(0,faceBox[1]-padding):min(faceBox[3]+padding,frame.shape[0]-1),max(0,faceBox[0]-padding):min(faceBox[2]+padding, frame.shape[1]-1)]\n",
        "    blob=cv2.dnn.blobFromImage(face,1.0,(227,227),[124.96,115.97,106.13],swapRB=True,crop=False)\n",
        "    genderNet.setInput(blob)\n",
        "    genderPreds=genderNet.forward()\n",
        "    gender=genderList[genderPreds[0].argmax()]\n",
        "\n",
        "    ageNet.setInput(blob)\n",
        "    agePreds=ageNet.forward()\n",
        "    age=ageList[agePreds[0].argmax()]\n",
        "    cv2.putText(resultImg,f'{gender},{age}',(faceBox[0],faceBox[1]-10),cv2.FONT_HERSHEY_SIMPLEX,0.8,(0,255,255),2,cv2.LINE_AA)\n",
        "    cv2.imshow(\"Detecting Age and Gender\",resultImg)\n",
        "\n",
        "    if cv2.waitKey(33) & 0xFF == ord('q'):\n",
        "      break\n",
        "cv2.destroyAllWindows()"
      ],
      "execution_count": 6,
      "outputs": [
        {
          "output_type": "error",
          "ename": "error",
          "evalue": "ignored",
          "traceback": [
            "\u001b[0;31m---------------------------------------------------------------------------\u001b[0m",
            "\u001b[0;31merror\u001b[0m                                     Traceback (most recent call last)",
            "\u001b[0;32m<ipython-input-6-a2646c9f6f4c>\u001b[0m in \u001b[0;36m<module>\u001b[0;34m()\u001b[0m\n\u001b[1;32m     28\u001b[0m \u001b[0mageList\u001b[0m\u001b[0;34m=\u001b[0m\u001b[0;34m[\u001b[0m\u001b[0;34m'(0-2)'\u001b[0m\u001b[0;34m,\u001b[0m\u001b[0;34m'(4-6)'\u001b[0m\u001b[0;34m,\u001b[0m\u001b[0;34m'(8-12)'\u001b[0m\u001b[0;34m,\u001b[0m\u001b[0;34m'(15-20)'\u001b[0m\u001b[0;34m,\u001b[0m\u001b[0;34m'(25-32)'\u001b[0m\u001b[0;34m,\u001b[0m\u001b[0;34m'(38-43)'\u001b[0m\u001b[0;34m,\u001b[0m\u001b[0;34m'(48-53)'\u001b[0m\u001b[0;34m,\u001b[0m\u001b[0;34m'(60-100)'\u001b[0m\u001b[0;34m]\u001b[0m\u001b[0;34m\u001b[0m\u001b[0;34m\u001b[0m\u001b[0m\n\u001b[1;32m     29\u001b[0m \u001b[0mgenderList\u001b[0m\u001b[0;34m=\u001b[0m\u001b[0;34m[\u001b[0m\u001b[0;34m'Male'\u001b[0m\u001b[0;34m,\u001b[0m\u001b[0;34m'Female'\u001b[0m\u001b[0;34m]\u001b[0m\u001b[0;34m\u001b[0m\u001b[0;34m\u001b[0m\u001b[0m\n\u001b[0;32m---> 30\u001b[0;31m \u001b[0mfaceNet\u001b[0m\u001b[0;34m=\u001b[0m\u001b[0mcv2\u001b[0m\u001b[0;34m.\u001b[0m\u001b[0mdnn\u001b[0m\u001b[0;34m.\u001b[0m\u001b[0mreadNet\u001b[0m\u001b[0;34m(\u001b[0m\u001b[0mfaceModel\u001b[0m\u001b[0;34m,\u001b[0m\u001b[0mfaceProto\u001b[0m\u001b[0;34m)\u001b[0m\u001b[0;34m\u001b[0m\u001b[0;34m\u001b[0m\u001b[0m\n\u001b[0m\u001b[1;32m     31\u001b[0m \u001b[0;34m\u001b[0m\u001b[0m\n\u001b[1;32m     32\u001b[0m \u001b[0mageNet\u001b[0m\u001b[0;34m=\u001b[0m\u001b[0mcv2\u001b[0m\u001b[0;34m.\u001b[0m\u001b[0mdnn\u001b[0m\u001b[0;34m.\u001b[0m\u001b[0mreadNet\u001b[0m\u001b[0;34m(\u001b[0m\u001b[0mageModel\u001b[0m\u001b[0;34m,\u001b[0m\u001b[0mageProto\u001b[0m\u001b[0;34m)\u001b[0m\u001b[0;34m\u001b[0m\u001b[0;34m\u001b[0m\u001b[0m\n",
            "\u001b[0;31merror\u001b[0m: OpenCV(4.1.2) /io/opencv/modules/dnn/src/caffe/caffe_io.cpp:1132: error: (-2:Unspecified error) FAILED: fs.is_open(). Can't open \"opencv_face_detector_uint8.pb\" in function 'ReadProtoFromBinaryFile'\n"
          ]
        }
      ]
    },
    {
      "cell_type": "code",
      "metadata": {
        "id": "X-kIJb4lVDCl"
      },
      "source": [
        ""
      ],
      "execution_count": null,
      "outputs": []
    }
  ]
}