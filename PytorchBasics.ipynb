{
  "nbformat": 4,
  "nbformat_minor": 0,
  "metadata": {
    "colab": {
      "name": "PytorchBasics.ipynb",
      "provenance": [],
      "collapsed_sections": [],
      "authorship_tag": "ABX9TyP2XjKviLtViFfMIiTCNcJI",
      "include_colab_link": true
    },
    "kernelspec": {
      "name": "python3",
      "display_name": "Python 3"
    },
    "language_info": {
      "name": "python"
    },
    "widgets": {
      "application/vnd.jupyter.widget-state+json": {
        "d79120f64caa44ac99d1572cd53bc61b": {
          "model_module": "@jupyter-widgets/controls",
          "model_name": "HBoxModel",
          "state": {
            "_view_name": "HBoxView",
            "_dom_classes": [],
            "_model_name": "HBoxModel",
            "_view_module": "@jupyter-widgets/controls",
            "_model_module_version": "1.5.0",
            "_view_count": null,
            "_view_module_version": "1.5.0",
            "box_style": "",
            "layout": "IPY_MODEL_6af462cdcab64a8c9ef3e5fcd5030fbf",
            "_model_module": "@jupyter-widgets/controls",
            "children": [
              "IPY_MODEL_5782d120690e4c618d8271240945ee69",
              "IPY_MODEL_947484d45862492b8a1baf3be3062360"
            ]
          }
        },
        "6af462cdcab64a8c9ef3e5fcd5030fbf": {
          "model_module": "@jupyter-widgets/base",
          "model_name": "LayoutModel",
          "state": {
            "_view_name": "LayoutView",
            "grid_template_rows": null,
            "right": null,
            "justify_content": null,
            "_view_module": "@jupyter-widgets/base",
            "overflow": null,
            "_model_module_version": "1.2.0",
            "_view_count": null,
            "flex_flow": null,
            "width": null,
            "min_width": null,
            "border": null,
            "align_items": null,
            "bottom": null,
            "_model_module": "@jupyter-widgets/base",
            "top": null,
            "grid_column": null,
            "overflow_y": null,
            "overflow_x": null,
            "grid_auto_flow": null,
            "grid_area": null,
            "grid_template_columns": null,
            "flex": null,
            "_model_name": "LayoutModel",
            "justify_items": null,
            "grid_row": null,
            "max_height": null,
            "align_content": null,
            "visibility": null,
            "align_self": null,
            "height": null,
            "min_height": null,
            "padding": null,
            "grid_auto_rows": null,
            "grid_gap": null,
            "max_width": null,
            "order": null,
            "_view_module_version": "1.2.0",
            "grid_template_areas": null,
            "object_position": null,
            "object_fit": null,
            "grid_auto_columns": null,
            "margin": null,
            "display": null,
            "left": null
          }
        },
        "5782d120690e4c618d8271240945ee69": {
          "model_module": "@jupyter-widgets/controls",
          "model_name": "FloatProgressModel",
          "state": {
            "_view_name": "ProgressView",
            "style": "IPY_MODEL_41d6e8eca1404727ad6e45017353445b",
            "_dom_classes": [],
            "description": "",
            "_model_name": "FloatProgressModel",
            "bar_style": "success",
            "max": 9912422,
            "_view_module": "@jupyter-widgets/controls",
            "_model_module_version": "1.5.0",
            "value": 9912422,
            "_view_count": null,
            "_view_module_version": "1.5.0",
            "orientation": "horizontal",
            "min": 0,
            "description_tooltip": null,
            "_model_module": "@jupyter-widgets/controls",
            "layout": "IPY_MODEL_47f24190821143ec93c381fe95014fb5"
          }
        },
        "947484d45862492b8a1baf3be3062360": {
          "model_module": "@jupyter-widgets/controls",
          "model_name": "HTMLModel",
          "state": {
            "_view_name": "HTMLView",
            "style": "IPY_MODEL_dd508421c6cd4c06a65b2a69d35306aa",
            "_dom_classes": [],
            "description": "",
            "_model_name": "HTMLModel",
            "placeholder": "​",
            "_view_module": "@jupyter-widgets/controls",
            "_model_module_version": "1.5.0",
            "value": " 9913344/? [04:34&lt;00:00, 36156.04it/s]",
            "_view_count": null,
            "_view_module_version": "1.5.0",
            "description_tooltip": null,
            "_model_module": "@jupyter-widgets/controls",
            "layout": "IPY_MODEL_e571f78c79ed48ae85141eacc16c5b2a"
          }
        },
        "41d6e8eca1404727ad6e45017353445b": {
          "model_module": "@jupyter-widgets/controls",
          "model_name": "ProgressStyleModel",
          "state": {
            "_view_name": "StyleView",
            "_model_name": "ProgressStyleModel",
            "description_width": "initial",
            "_view_module": "@jupyter-widgets/base",
            "_model_module_version": "1.5.0",
            "_view_count": null,
            "_view_module_version": "1.2.0",
            "bar_color": null,
            "_model_module": "@jupyter-widgets/controls"
          }
        },
        "47f24190821143ec93c381fe95014fb5": {
          "model_module": "@jupyter-widgets/base",
          "model_name": "LayoutModel",
          "state": {
            "_view_name": "LayoutView",
            "grid_template_rows": null,
            "right": null,
            "justify_content": null,
            "_view_module": "@jupyter-widgets/base",
            "overflow": null,
            "_model_module_version": "1.2.0",
            "_view_count": null,
            "flex_flow": null,
            "width": null,
            "min_width": null,
            "border": null,
            "align_items": null,
            "bottom": null,
            "_model_module": "@jupyter-widgets/base",
            "top": null,
            "grid_column": null,
            "overflow_y": null,
            "overflow_x": null,
            "grid_auto_flow": null,
            "grid_area": null,
            "grid_template_columns": null,
            "flex": null,
            "_model_name": "LayoutModel",
            "justify_items": null,
            "grid_row": null,
            "max_height": null,
            "align_content": null,
            "visibility": null,
            "align_self": null,
            "height": null,
            "min_height": null,
            "padding": null,
            "grid_auto_rows": null,
            "grid_gap": null,
            "max_width": null,
            "order": null,
            "_view_module_version": "1.2.0",
            "grid_template_areas": null,
            "object_position": null,
            "object_fit": null,
            "grid_auto_columns": null,
            "margin": null,
            "display": null,
            "left": null
          }
        },
        "dd508421c6cd4c06a65b2a69d35306aa": {
          "model_module": "@jupyter-widgets/controls",
          "model_name": "DescriptionStyleModel",
          "state": {
            "_view_name": "StyleView",
            "_model_name": "DescriptionStyleModel",
            "description_width": "",
            "_view_module": "@jupyter-widgets/base",
            "_model_module_version": "1.5.0",
            "_view_count": null,
            "_view_module_version": "1.2.0",
            "_model_module": "@jupyter-widgets/controls"
          }
        },
        "e571f78c79ed48ae85141eacc16c5b2a": {
          "model_module": "@jupyter-widgets/base",
          "model_name": "LayoutModel",
          "state": {
            "_view_name": "LayoutView",
            "grid_template_rows": null,
            "right": null,
            "justify_content": null,
            "_view_module": "@jupyter-widgets/base",
            "overflow": null,
            "_model_module_version": "1.2.0",
            "_view_count": null,
            "flex_flow": null,
            "width": null,
            "min_width": null,
            "border": null,
            "align_items": null,
            "bottom": null,
            "_model_module": "@jupyter-widgets/base",
            "top": null,
            "grid_column": null,
            "overflow_y": null,
            "overflow_x": null,
            "grid_auto_flow": null,
            "grid_area": null,
            "grid_template_columns": null,
            "flex": null,
            "_model_name": "LayoutModel",
            "justify_items": null,
            "grid_row": null,
            "max_height": null,
            "align_content": null,
            "visibility": null,
            "align_self": null,
            "height": null,
            "min_height": null,
            "padding": null,
            "grid_auto_rows": null,
            "grid_gap": null,
            "max_width": null,
            "order": null,
            "_view_module_version": "1.2.0",
            "grid_template_areas": null,
            "object_position": null,
            "object_fit": null,
            "grid_auto_columns": null,
            "margin": null,
            "display": null,
            "left": null
          }
        },
        "cdc449cafcfb4e33ab1a053f06993617": {
          "model_module": "@jupyter-widgets/controls",
          "model_name": "HBoxModel",
          "state": {
            "_view_name": "HBoxView",
            "_dom_classes": [],
            "_model_name": "HBoxModel",
            "_view_module": "@jupyter-widgets/controls",
            "_model_module_version": "1.5.0",
            "_view_count": null,
            "_view_module_version": "1.5.0",
            "box_style": "",
            "layout": "IPY_MODEL_f931d717bdb4405eb4fea673ee5e7715",
            "_model_module": "@jupyter-widgets/controls",
            "children": [
              "IPY_MODEL_cf119e8775ea4cd692cdab57530941e0",
              "IPY_MODEL_d04bbd571db9477b85855c77d5f5148d"
            ]
          }
        },
        "f931d717bdb4405eb4fea673ee5e7715": {
          "model_module": "@jupyter-widgets/base",
          "model_name": "LayoutModel",
          "state": {
            "_view_name": "LayoutView",
            "grid_template_rows": null,
            "right": null,
            "justify_content": null,
            "_view_module": "@jupyter-widgets/base",
            "overflow": null,
            "_model_module_version": "1.2.0",
            "_view_count": null,
            "flex_flow": null,
            "width": null,
            "min_width": null,
            "border": null,
            "align_items": null,
            "bottom": null,
            "_model_module": "@jupyter-widgets/base",
            "top": null,
            "grid_column": null,
            "overflow_y": null,
            "overflow_x": null,
            "grid_auto_flow": null,
            "grid_area": null,
            "grid_template_columns": null,
            "flex": null,
            "_model_name": "LayoutModel",
            "justify_items": null,
            "grid_row": null,
            "max_height": null,
            "align_content": null,
            "visibility": null,
            "align_self": null,
            "height": null,
            "min_height": null,
            "padding": null,
            "grid_auto_rows": null,
            "grid_gap": null,
            "max_width": null,
            "order": null,
            "_view_module_version": "1.2.0",
            "grid_template_areas": null,
            "object_position": null,
            "object_fit": null,
            "grid_auto_columns": null,
            "margin": null,
            "display": null,
            "left": null
          }
        },
        "cf119e8775ea4cd692cdab57530941e0": {
          "model_module": "@jupyter-widgets/controls",
          "model_name": "FloatProgressModel",
          "state": {
            "_view_name": "ProgressView",
            "style": "IPY_MODEL_535d231117be4f6c9af36a23dafa021d",
            "_dom_classes": [],
            "description": "",
            "_model_name": "FloatProgressModel",
            "bar_style": "success",
            "max": 28881,
            "_view_module": "@jupyter-widgets/controls",
            "_model_module_version": "1.5.0",
            "value": 28881,
            "_view_count": null,
            "_view_module_version": "1.5.0",
            "orientation": "horizontal",
            "min": 0,
            "description_tooltip": null,
            "_model_module": "@jupyter-widgets/controls",
            "layout": "IPY_MODEL_e3d963804ab24866a3f9ab753a9c93d7"
          }
        },
        "d04bbd571db9477b85855c77d5f5148d": {
          "model_module": "@jupyter-widgets/controls",
          "model_name": "HTMLModel",
          "state": {
            "_view_name": "HTMLView",
            "style": "IPY_MODEL_d0a13b59f670441eb181b69d25d19390",
            "_dom_classes": [],
            "description": "",
            "_model_name": "HTMLModel",
            "placeholder": "​",
            "_view_module": "@jupyter-widgets/controls",
            "_model_module_version": "1.5.0",
            "value": " 29696/? [00:01&lt;00:00, 29193.50it/s]",
            "_view_count": null,
            "_view_module_version": "1.5.0",
            "description_tooltip": null,
            "_model_module": "@jupyter-widgets/controls",
            "layout": "IPY_MODEL_43a66e6e4e71497ab6e33ee052c7a693"
          }
        },
        "535d231117be4f6c9af36a23dafa021d": {
          "model_module": "@jupyter-widgets/controls",
          "model_name": "ProgressStyleModel",
          "state": {
            "_view_name": "StyleView",
            "_model_name": "ProgressStyleModel",
            "description_width": "initial",
            "_view_module": "@jupyter-widgets/base",
            "_model_module_version": "1.5.0",
            "_view_count": null,
            "_view_module_version": "1.2.0",
            "bar_color": null,
            "_model_module": "@jupyter-widgets/controls"
          }
        },
        "e3d963804ab24866a3f9ab753a9c93d7": {
          "model_module": "@jupyter-widgets/base",
          "model_name": "LayoutModel",
          "state": {
            "_view_name": "LayoutView",
            "grid_template_rows": null,
            "right": null,
            "justify_content": null,
            "_view_module": "@jupyter-widgets/base",
            "overflow": null,
            "_model_module_version": "1.2.0",
            "_view_count": null,
            "flex_flow": null,
            "width": null,
            "min_width": null,
            "border": null,
            "align_items": null,
            "bottom": null,
            "_model_module": "@jupyter-widgets/base",
            "top": null,
            "grid_column": null,
            "overflow_y": null,
            "overflow_x": null,
            "grid_auto_flow": null,
            "grid_area": null,
            "grid_template_columns": null,
            "flex": null,
            "_model_name": "LayoutModel",
            "justify_items": null,
            "grid_row": null,
            "max_height": null,
            "align_content": null,
            "visibility": null,
            "align_self": null,
            "height": null,
            "min_height": null,
            "padding": null,
            "grid_auto_rows": null,
            "grid_gap": null,
            "max_width": null,
            "order": null,
            "_view_module_version": "1.2.0",
            "grid_template_areas": null,
            "object_position": null,
            "object_fit": null,
            "grid_auto_columns": null,
            "margin": null,
            "display": null,
            "left": null
          }
        },
        "d0a13b59f670441eb181b69d25d19390": {
          "model_module": "@jupyter-widgets/controls",
          "model_name": "DescriptionStyleModel",
          "state": {
            "_view_name": "StyleView",
            "_model_name": "DescriptionStyleModel",
            "description_width": "",
            "_view_module": "@jupyter-widgets/base",
            "_model_module_version": "1.5.0",
            "_view_count": null,
            "_view_module_version": "1.2.0",
            "_model_module": "@jupyter-widgets/controls"
          }
        },
        "43a66e6e4e71497ab6e33ee052c7a693": {
          "model_module": "@jupyter-widgets/base",
          "model_name": "LayoutModel",
          "state": {
            "_view_name": "LayoutView",
            "grid_template_rows": null,
            "right": null,
            "justify_content": null,
            "_view_module": "@jupyter-widgets/base",
            "overflow": null,
            "_model_module_version": "1.2.0",
            "_view_count": null,
            "flex_flow": null,
            "width": null,
            "min_width": null,
            "border": null,
            "align_items": null,
            "bottom": null,
            "_model_module": "@jupyter-widgets/base",
            "top": null,
            "grid_column": null,
            "overflow_y": null,
            "overflow_x": null,
            "grid_auto_flow": null,
            "grid_area": null,
            "grid_template_columns": null,
            "flex": null,
            "_model_name": "LayoutModel",
            "justify_items": null,
            "grid_row": null,
            "max_height": null,
            "align_content": null,
            "visibility": null,
            "align_self": null,
            "height": null,
            "min_height": null,
            "padding": null,
            "grid_auto_rows": null,
            "grid_gap": null,
            "max_width": null,
            "order": null,
            "_view_module_version": "1.2.0",
            "grid_template_areas": null,
            "object_position": null,
            "object_fit": null,
            "grid_auto_columns": null,
            "margin": null,
            "display": null,
            "left": null
          }
        },
        "a537d4827e984ed185f103015961d08e": {
          "model_module": "@jupyter-widgets/controls",
          "model_name": "HBoxModel",
          "state": {
            "_view_name": "HBoxView",
            "_dom_classes": [],
            "_model_name": "HBoxModel",
            "_view_module": "@jupyter-widgets/controls",
            "_model_module_version": "1.5.0",
            "_view_count": null,
            "_view_module_version": "1.5.0",
            "box_style": "",
            "layout": "IPY_MODEL_157bc0972bac432992280c99d8bde508",
            "_model_module": "@jupyter-widgets/controls",
            "children": [
              "IPY_MODEL_e673659ea39e485cbdfadf90eec87a35",
              "IPY_MODEL_8cc1c80e09d347c5bad1ed550a207b7e"
            ]
          }
        },
        "157bc0972bac432992280c99d8bde508": {
          "model_module": "@jupyter-widgets/base",
          "model_name": "LayoutModel",
          "state": {
            "_view_name": "LayoutView",
            "grid_template_rows": null,
            "right": null,
            "justify_content": null,
            "_view_module": "@jupyter-widgets/base",
            "overflow": null,
            "_model_module_version": "1.2.0",
            "_view_count": null,
            "flex_flow": null,
            "width": null,
            "min_width": null,
            "border": null,
            "align_items": null,
            "bottom": null,
            "_model_module": "@jupyter-widgets/base",
            "top": null,
            "grid_column": null,
            "overflow_y": null,
            "overflow_x": null,
            "grid_auto_flow": null,
            "grid_area": null,
            "grid_template_columns": null,
            "flex": null,
            "_model_name": "LayoutModel",
            "justify_items": null,
            "grid_row": null,
            "max_height": null,
            "align_content": null,
            "visibility": null,
            "align_self": null,
            "height": null,
            "min_height": null,
            "padding": null,
            "grid_auto_rows": null,
            "grid_gap": null,
            "max_width": null,
            "order": null,
            "_view_module_version": "1.2.0",
            "grid_template_areas": null,
            "object_position": null,
            "object_fit": null,
            "grid_auto_columns": null,
            "margin": null,
            "display": null,
            "left": null
          }
        },
        "e673659ea39e485cbdfadf90eec87a35": {
          "model_module": "@jupyter-widgets/controls",
          "model_name": "FloatProgressModel",
          "state": {
            "_view_name": "ProgressView",
            "style": "IPY_MODEL_698c009a8870406f9758c41dc8ac514d",
            "_dom_classes": [],
            "description": "",
            "_model_name": "FloatProgressModel",
            "bar_style": "success",
            "max": 1648877,
            "_view_module": "@jupyter-widgets/controls",
            "_model_module_version": "1.5.0",
            "value": 1648877,
            "_view_count": null,
            "_view_module_version": "1.5.0",
            "orientation": "horizontal",
            "min": 0,
            "description_tooltip": null,
            "_model_module": "@jupyter-widgets/controls",
            "layout": "IPY_MODEL_1c0711b8ed694291b9c82bf0b3abedac"
          }
        },
        "8cc1c80e09d347c5bad1ed550a207b7e": {
          "model_module": "@jupyter-widgets/controls",
          "model_name": "HTMLModel",
          "state": {
            "_view_name": "HTMLView",
            "style": "IPY_MODEL_23f80f9c199349bda28ffb285a530b07",
            "_dom_classes": [],
            "description": "",
            "_model_name": "HTMLModel",
            "placeholder": "​",
            "_view_module": "@jupyter-widgets/controls",
            "_model_module_version": "1.5.0",
            "value": " 1649664/? [00:00&lt;00:00, 3238859.77it/s]",
            "_view_count": null,
            "_view_module_version": "1.5.0",
            "description_tooltip": null,
            "_model_module": "@jupyter-widgets/controls",
            "layout": "IPY_MODEL_542a641016b14710aae48d3d5f13e071"
          }
        },
        "698c009a8870406f9758c41dc8ac514d": {
          "model_module": "@jupyter-widgets/controls",
          "model_name": "ProgressStyleModel",
          "state": {
            "_view_name": "StyleView",
            "_model_name": "ProgressStyleModel",
            "description_width": "initial",
            "_view_module": "@jupyter-widgets/base",
            "_model_module_version": "1.5.0",
            "_view_count": null,
            "_view_module_version": "1.2.0",
            "bar_color": null,
            "_model_module": "@jupyter-widgets/controls"
          }
        },
        "1c0711b8ed694291b9c82bf0b3abedac": {
          "model_module": "@jupyter-widgets/base",
          "model_name": "LayoutModel",
          "state": {
            "_view_name": "LayoutView",
            "grid_template_rows": null,
            "right": null,
            "justify_content": null,
            "_view_module": "@jupyter-widgets/base",
            "overflow": null,
            "_model_module_version": "1.2.0",
            "_view_count": null,
            "flex_flow": null,
            "width": null,
            "min_width": null,
            "border": null,
            "align_items": null,
            "bottom": null,
            "_model_module": "@jupyter-widgets/base",
            "top": null,
            "grid_column": null,
            "overflow_y": null,
            "overflow_x": null,
            "grid_auto_flow": null,
            "grid_area": null,
            "grid_template_columns": null,
            "flex": null,
            "_model_name": "LayoutModel",
            "justify_items": null,
            "grid_row": null,
            "max_height": null,
            "align_content": null,
            "visibility": null,
            "align_self": null,
            "height": null,
            "min_height": null,
            "padding": null,
            "grid_auto_rows": null,
            "grid_gap": null,
            "max_width": null,
            "order": null,
            "_view_module_version": "1.2.0",
            "grid_template_areas": null,
            "object_position": null,
            "object_fit": null,
            "grid_auto_columns": null,
            "margin": null,
            "display": null,
            "left": null
          }
        },
        "23f80f9c199349bda28ffb285a530b07": {
          "model_module": "@jupyter-widgets/controls",
          "model_name": "DescriptionStyleModel",
          "state": {
            "_view_name": "StyleView",
            "_model_name": "DescriptionStyleModel",
            "description_width": "",
            "_view_module": "@jupyter-widgets/base",
            "_model_module_version": "1.5.0",
            "_view_count": null,
            "_view_module_version": "1.2.0",
            "_model_module": "@jupyter-widgets/controls"
          }
        },
        "542a641016b14710aae48d3d5f13e071": {
          "model_module": "@jupyter-widgets/base",
          "model_name": "LayoutModel",
          "state": {
            "_view_name": "LayoutView",
            "grid_template_rows": null,
            "right": null,
            "justify_content": null,
            "_view_module": "@jupyter-widgets/base",
            "overflow": null,
            "_model_module_version": "1.2.0",
            "_view_count": null,
            "flex_flow": null,
            "width": null,
            "min_width": null,
            "border": null,
            "align_items": null,
            "bottom": null,
            "_model_module": "@jupyter-widgets/base",
            "top": null,
            "grid_column": null,
            "overflow_y": null,
            "overflow_x": null,
            "grid_auto_flow": null,
            "grid_area": null,
            "grid_template_columns": null,
            "flex": null,
            "_model_name": "LayoutModel",
            "justify_items": null,
            "grid_row": null,
            "max_height": null,
            "align_content": null,
            "visibility": null,
            "align_self": null,
            "height": null,
            "min_height": null,
            "padding": null,
            "grid_auto_rows": null,
            "grid_gap": null,
            "max_width": null,
            "order": null,
            "_view_module_version": "1.2.0",
            "grid_template_areas": null,
            "object_position": null,
            "object_fit": null,
            "grid_auto_columns": null,
            "margin": null,
            "display": null,
            "left": null
          }
        },
        "058fdb060ba94be193b5223b3ff016d0": {
          "model_module": "@jupyter-widgets/controls",
          "model_name": "HBoxModel",
          "state": {
            "_view_name": "HBoxView",
            "_dom_classes": [],
            "_model_name": "HBoxModel",
            "_view_module": "@jupyter-widgets/controls",
            "_model_module_version": "1.5.0",
            "_view_count": null,
            "_view_module_version": "1.5.0",
            "box_style": "",
            "layout": "IPY_MODEL_20dbf4a21e4d4dd0ada0bb06bbfd6a31",
            "_model_module": "@jupyter-widgets/controls",
            "children": [
              "IPY_MODEL_3885e70a49224687971ac0120fa9f9ff",
              "IPY_MODEL_35d94197ed76435a8c976b8ec569947f"
            ]
          }
        },
        "20dbf4a21e4d4dd0ada0bb06bbfd6a31": {
          "model_module": "@jupyter-widgets/base",
          "model_name": "LayoutModel",
          "state": {
            "_view_name": "LayoutView",
            "grid_template_rows": null,
            "right": null,
            "justify_content": null,
            "_view_module": "@jupyter-widgets/base",
            "overflow": null,
            "_model_module_version": "1.2.0",
            "_view_count": null,
            "flex_flow": null,
            "width": null,
            "min_width": null,
            "border": null,
            "align_items": null,
            "bottom": null,
            "_model_module": "@jupyter-widgets/base",
            "top": null,
            "grid_column": null,
            "overflow_y": null,
            "overflow_x": null,
            "grid_auto_flow": null,
            "grid_area": null,
            "grid_template_columns": null,
            "flex": null,
            "_model_name": "LayoutModel",
            "justify_items": null,
            "grid_row": null,
            "max_height": null,
            "align_content": null,
            "visibility": null,
            "align_self": null,
            "height": null,
            "min_height": null,
            "padding": null,
            "grid_auto_rows": null,
            "grid_gap": null,
            "max_width": null,
            "order": null,
            "_view_module_version": "1.2.0",
            "grid_template_areas": null,
            "object_position": null,
            "object_fit": null,
            "grid_auto_columns": null,
            "margin": null,
            "display": null,
            "left": null
          }
        },
        "3885e70a49224687971ac0120fa9f9ff": {
          "model_module": "@jupyter-widgets/controls",
          "model_name": "FloatProgressModel",
          "state": {
            "_view_name": "ProgressView",
            "style": "IPY_MODEL_7a79d266a63d44889df43d7374529a83",
            "_dom_classes": [],
            "description": "",
            "_model_name": "FloatProgressModel",
            "bar_style": "success",
            "max": 4542,
            "_view_module": "@jupyter-widgets/controls",
            "_model_module_version": "1.5.0",
            "value": 4542,
            "_view_count": null,
            "_view_module_version": "1.5.0",
            "orientation": "horizontal",
            "min": 0,
            "description_tooltip": null,
            "_model_module": "@jupyter-widgets/controls",
            "layout": "IPY_MODEL_b4ce235aaac3416cbf28511fbe768cf9"
          }
        },
        "35d94197ed76435a8c976b8ec569947f": {
          "model_module": "@jupyter-widgets/controls",
          "model_name": "HTMLModel",
          "state": {
            "_view_name": "HTMLView",
            "style": "IPY_MODEL_d4e8562dd7e24001aea247725689c5a6",
            "_dom_classes": [],
            "description": "",
            "_model_name": "HTMLModel",
            "placeholder": "​",
            "_view_module": "@jupyter-widgets/controls",
            "_model_module_version": "1.5.0",
            "value": " 5120/? [00:00&lt;00:00, 17589.15it/s]",
            "_view_count": null,
            "_view_module_version": "1.5.0",
            "description_tooltip": null,
            "_model_module": "@jupyter-widgets/controls",
            "layout": "IPY_MODEL_6551ad1b24e946f18ed4ce3d764b3f91"
          }
        },
        "7a79d266a63d44889df43d7374529a83": {
          "model_module": "@jupyter-widgets/controls",
          "model_name": "ProgressStyleModel",
          "state": {
            "_view_name": "StyleView",
            "_model_name": "ProgressStyleModel",
            "description_width": "initial",
            "_view_module": "@jupyter-widgets/base",
            "_model_module_version": "1.5.0",
            "_view_count": null,
            "_view_module_version": "1.2.0",
            "bar_color": null,
            "_model_module": "@jupyter-widgets/controls"
          }
        },
        "b4ce235aaac3416cbf28511fbe768cf9": {
          "model_module": "@jupyter-widgets/base",
          "model_name": "LayoutModel",
          "state": {
            "_view_name": "LayoutView",
            "grid_template_rows": null,
            "right": null,
            "justify_content": null,
            "_view_module": "@jupyter-widgets/base",
            "overflow": null,
            "_model_module_version": "1.2.0",
            "_view_count": null,
            "flex_flow": null,
            "width": null,
            "min_width": null,
            "border": null,
            "align_items": null,
            "bottom": null,
            "_model_module": "@jupyter-widgets/base",
            "top": null,
            "grid_column": null,
            "overflow_y": null,
            "overflow_x": null,
            "grid_auto_flow": null,
            "grid_area": null,
            "grid_template_columns": null,
            "flex": null,
            "_model_name": "LayoutModel",
            "justify_items": null,
            "grid_row": null,
            "max_height": null,
            "align_content": null,
            "visibility": null,
            "align_self": null,
            "height": null,
            "min_height": null,
            "padding": null,
            "grid_auto_rows": null,
            "grid_gap": null,
            "max_width": null,
            "order": null,
            "_view_module_version": "1.2.0",
            "grid_template_areas": null,
            "object_position": null,
            "object_fit": null,
            "grid_auto_columns": null,
            "margin": null,
            "display": null,
            "left": null
          }
        },
        "d4e8562dd7e24001aea247725689c5a6": {
          "model_module": "@jupyter-widgets/controls",
          "model_name": "DescriptionStyleModel",
          "state": {
            "_view_name": "StyleView",
            "_model_name": "DescriptionStyleModel",
            "description_width": "",
            "_view_module": "@jupyter-widgets/base",
            "_model_module_version": "1.5.0",
            "_view_count": null,
            "_view_module_version": "1.2.0",
            "_model_module": "@jupyter-widgets/controls"
          }
        },
        "6551ad1b24e946f18ed4ce3d764b3f91": {
          "model_module": "@jupyter-widgets/base",
          "model_name": "LayoutModel",
          "state": {
            "_view_name": "LayoutView",
            "grid_template_rows": null,
            "right": null,
            "justify_content": null,
            "_view_module": "@jupyter-widgets/base",
            "overflow": null,
            "_model_module_version": "1.2.0",
            "_view_count": null,
            "flex_flow": null,
            "width": null,
            "min_width": null,
            "border": null,
            "align_items": null,
            "bottom": null,
            "_model_module": "@jupyter-widgets/base",
            "top": null,
            "grid_column": null,
            "overflow_y": null,
            "overflow_x": null,
            "grid_auto_flow": null,
            "grid_area": null,
            "grid_template_columns": null,
            "flex": null,
            "_model_name": "LayoutModel",
            "justify_items": null,
            "grid_row": null,
            "max_height": null,
            "align_content": null,
            "visibility": null,
            "align_self": null,
            "height": null,
            "min_height": null,
            "padding": null,
            "grid_auto_rows": null,
            "grid_gap": null,
            "max_width": null,
            "order": null,
            "_view_module_version": "1.2.0",
            "grid_template_areas": null,
            "object_position": null,
            "object_fit": null,
            "grid_auto_columns": null,
            "margin": null,
            "display": null,
            "left": null
          }
        }
      }
    }
  },
  "cells": [
    {
      "cell_type": "markdown",
      "metadata": {
        "id": "view-in-github",
        "colab_type": "text"
      },
      "source": [
        "<a href=\"https://colab.research.google.com/github/Mr-Stark-18/Soc2k21_Checkpoint2/blob/main/PytorchBasics.ipynb\" target=\"_parent\"><img src=\"https://colab.research.google.com/assets/colab-badge.svg\" alt=\"Open In Colab\"/></a>"
      ]
    },
    {
      "cell_type": "code",
      "metadata": {
        "colab": {
          "base_uri": "https://localhost:8080/"
        },
        "id": "3grVVv4k-hVW",
        "outputId": "47c7724f-9c24-486b-d19a-06e95c9ac5c7"
      },
      "source": [
        "import torch\n",
        "x = torch.Tensor([5,3])\n",
        "y = torch.Tensor([2,1])\n",
        "print(x*y)"
      ],
      "execution_count": null,
      "outputs": [
        {
          "output_type": "stream",
          "text": [
            "tensor([10.,  3.])\n"
          ],
          "name": "stdout"
        }
      ]
    },
    {
      "cell_type": "code",
      "metadata": {
        "colab": {
          "base_uri": "https://localhost:8080/"
        },
        "id": "00_AhnT4-z4N",
        "outputId": "ae5e805c-4cd6-4cc8-a41b-97871b28dccc"
      },
      "source": [
        "x = torch.zeros([2,5])\n",
        "print(x)"
      ],
      "execution_count": null,
      "outputs": [
        {
          "output_type": "stream",
          "text": [
            "tensor([[0., 0., 0., 0., 0.],\n",
            "        [0., 0., 0., 0., 0.]])\n"
          ],
          "name": "stdout"
        }
      ]
    },
    {
      "cell_type": "code",
      "metadata": {
        "colab": {
          "base_uri": "https://localhost:8080/"
        },
        "id": "5hoVdbkl-_6L",
        "outputId": "130c00e7-8219-4a95-d525-1876ef64ffad"
      },
      "source": [
        "x.shape"
      ],
      "execution_count": null,
      "outputs": [
        {
          "output_type": "execute_result",
          "data": {
            "text/plain": [
              "torch.Size([2, 5])"
            ]
          },
          "metadata": {
            "tags": []
          },
          "execution_count": 4
        }
      ]
    },
    {
      "cell_type": "code",
      "metadata": {
        "id": "R4nwIlks_BSb"
      },
      "source": [
        "y = torch.rand([2,5])"
      ],
      "execution_count": null,
      "outputs": []
    },
    {
      "cell_type": "code",
      "metadata": {
        "colab": {
          "base_uri": "https://localhost:8080/"
        },
        "id": "5yhpWEkP_HI2",
        "outputId": "5482bdc3-0234-44c3-b6db-18330873ae36"
      },
      "source": [
        "y"
      ],
      "execution_count": null,
      "outputs": [
        {
          "output_type": "execute_result",
          "data": {
            "text/plain": [
              "tensor([[0.1526, 0.2172, 0.0344, 0.7698, 0.5997],\n",
              "        [0.4132, 0.4187, 0.8732, 0.9400, 0.0554]])"
            ]
          },
          "metadata": {
            "tags": []
          },
          "execution_count": 8
        }
      ]
    },
    {
      "cell_type": "code",
      "metadata": {
        "id": "HcY9o76U_IDv"
      },
      "source": [
        "y = y.view([1,10])"
      ],
      "execution_count": null,
      "outputs": []
    },
    {
      "cell_type": "code",
      "metadata": {
        "colab": {
          "base_uri": "https://localhost:8080/"
        },
        "id": "Tl-ai0nf_w0O",
        "outputId": "0c7692d0-f2fe-470d-9f3a-89eaa1938d11"
      },
      "source": [
        "y"
      ],
      "execution_count": null,
      "outputs": [
        {
          "output_type": "execute_result",
          "data": {
            "text/plain": [
              "tensor([[0.1526, 0.2172, 0.0344, 0.7698, 0.5997, 0.4132, 0.4187, 0.8732, 0.9400,\n",
              "         0.0554]])"
            ]
          },
          "metadata": {
            "tags": []
          },
          "execution_count": 11
        }
      ]
    },
    {
      "cell_type": "markdown",
      "metadata": {
        "id": "9fTVM3qp_0vo"
      },
      "source": [
        "- 2"
      ]
    },
    {
      "cell_type": "code",
      "metadata": {
        "colab": {
          "base_uri": "https://localhost:8080/"
        },
        "id": "MlPnfU8I89vj",
        "outputId": "033f7517-5f2d-486c-a935-707c1db4735e"
      },
      "source": [
        "pip install torchvision"
      ],
      "execution_count": null,
      "outputs": [
        {
          "output_type": "stream",
          "text": [
            "Requirement already satisfied: torchvision in /usr/local/lib/python3.7/dist-packages (0.9.1+cu101)\n",
            "Requirement already satisfied: pillow>=4.1.1 in /usr/local/lib/python3.7/dist-packages (from torchvision) (7.1.2)\n",
            "Requirement already satisfied: numpy in /usr/local/lib/python3.7/dist-packages (from torchvision) (1.19.5)\n",
            "Requirement already satisfied: torch==1.8.1 in /usr/local/lib/python3.7/dist-packages (from torchvision) (1.8.1+cu101)\n",
            "Requirement already satisfied: typing-extensions in /usr/local/lib/python3.7/dist-packages (from torch==1.8.1->torchvision) (3.7.4.3)\n"
          ],
          "name": "stdout"
        }
      ]
    },
    {
      "cell_type": "code",
      "metadata": {
        "id": "kVBlBuXy9Bfb"
      },
      "source": [
        "import torch \n",
        "import torchvision\n",
        "from torchvision import transforms, datasets"
      ],
      "execution_count": null,
      "outputs": []
    },
    {
      "cell_type": "code",
      "metadata": {
        "colab": {
          "base_uri": "https://localhost:8080/",
          "height": 737,
          "referenced_widgets": [
            "d79120f64caa44ac99d1572cd53bc61b",
            "6af462cdcab64a8c9ef3e5fcd5030fbf",
            "5782d120690e4c618d8271240945ee69",
            "947484d45862492b8a1baf3be3062360",
            "41d6e8eca1404727ad6e45017353445b",
            "47f24190821143ec93c381fe95014fb5",
            "dd508421c6cd4c06a65b2a69d35306aa",
            "e571f78c79ed48ae85141eacc16c5b2a",
            "cdc449cafcfb4e33ab1a053f06993617",
            "f931d717bdb4405eb4fea673ee5e7715",
            "cf119e8775ea4cd692cdab57530941e0",
            "d04bbd571db9477b85855c77d5f5148d",
            "535d231117be4f6c9af36a23dafa021d",
            "e3d963804ab24866a3f9ab753a9c93d7",
            "d0a13b59f670441eb181b69d25d19390",
            "43a66e6e4e71497ab6e33ee052c7a693",
            "a537d4827e984ed185f103015961d08e",
            "157bc0972bac432992280c99d8bde508",
            "e673659ea39e485cbdfadf90eec87a35",
            "8cc1c80e09d347c5bad1ed550a207b7e",
            "698c009a8870406f9758c41dc8ac514d",
            "1c0711b8ed694291b9c82bf0b3abedac",
            "23f80f9c199349bda28ffb285a530b07",
            "542a641016b14710aae48d3d5f13e071",
            "058fdb060ba94be193b5223b3ff016d0",
            "20dbf4a21e4d4dd0ada0bb06bbfd6a31",
            "3885e70a49224687971ac0120fa9f9ff",
            "35d94197ed76435a8c976b8ec569947f",
            "7a79d266a63d44889df43d7374529a83",
            "b4ce235aaac3416cbf28511fbe768cf9",
            "d4e8562dd7e24001aea247725689c5a6",
            "6551ad1b24e946f18ed4ce3d764b3f91"
          ]
        },
        "id": "i8je5cn79PHY",
        "outputId": "ed5886f4-c3a5-4fd4-9579-327cadba8b23"
      },
      "source": [
        "#in torchvision aur data is already in a form we can input\n",
        "# we can havea trained dataset and test dataset\n",
        "train = datasets.MNIST(\"\",train=True,download=True,transform=transforms.Compose([transforms.ToTensor()]))\n",
        "test = datasets.MNIST(\"\",train=False,download=True,transform=transforms.Compose([transforms.ToTensor()]))"
      ],
      "execution_count": null,
      "outputs": [
        {
          "output_type": "stream",
          "text": [
            "Downloading http://yann.lecun.com/exdb/mnist/train-images-idx3-ubyte.gz\n",
            "Downloading http://yann.lecun.com/exdb/mnist/train-images-idx3-ubyte.gz to MNIST/raw/train-images-idx3-ubyte.gz\n"
          ],
          "name": "stdout"
        },
        {
          "output_type": "display_data",
          "data": {
            "application/vnd.jupyter.widget-view+json": {
              "model_id": "d79120f64caa44ac99d1572cd53bc61b",
              "version_minor": 0,
              "version_major": 2
            },
            "text/plain": [
              "HBox(children=(FloatProgress(value=0.0, max=9912422.0), HTML(value='')))"
            ]
          },
          "metadata": {
            "tags": []
          }
        },
        {
          "output_type": "stream",
          "text": [
            "\n",
            "Extracting MNIST/raw/train-images-idx3-ubyte.gz to MNIST/raw\n",
            "\n",
            "Downloading http://yann.lecun.com/exdb/mnist/train-labels-idx1-ubyte.gz\n",
            "Downloading http://yann.lecun.com/exdb/mnist/train-labels-idx1-ubyte.gz to MNIST/raw/train-labels-idx1-ubyte.gz\n"
          ],
          "name": "stdout"
        },
        {
          "output_type": "display_data",
          "data": {
            "application/vnd.jupyter.widget-view+json": {
              "model_id": "cdc449cafcfb4e33ab1a053f06993617",
              "version_minor": 0,
              "version_major": 2
            },
            "text/plain": [
              "HBox(children=(FloatProgress(value=0.0, max=28881.0), HTML(value='')))"
            ]
          },
          "metadata": {
            "tags": []
          }
        },
        {
          "output_type": "stream",
          "text": [
            "\n",
            "Extracting MNIST/raw/train-labels-idx1-ubyte.gz to MNIST/raw\n",
            "\n",
            "Downloading http://yann.lecun.com/exdb/mnist/t10k-images-idx3-ubyte.gz\n",
            "Downloading http://yann.lecun.com/exdb/mnist/t10k-images-idx3-ubyte.gz to MNIST/raw/t10k-images-idx3-ubyte.gz\n",
            "Failed to download (trying next):\n",
            "HTTP Error 503: Service Unavailable\n",
            "\n",
            "Downloading https://ossci-datasets.s3.amazonaws.com/mnist/t10k-images-idx3-ubyte.gz\n",
            "Downloading https://ossci-datasets.s3.amazonaws.com/mnist/t10k-images-idx3-ubyte.gz to MNIST/raw/t10k-images-idx3-ubyte.gz\n"
          ],
          "name": "stdout"
        },
        {
          "output_type": "display_data",
          "data": {
            "application/vnd.jupyter.widget-view+json": {
              "model_id": "a537d4827e984ed185f103015961d08e",
              "version_minor": 0,
              "version_major": 2
            },
            "text/plain": [
              "HBox(children=(FloatProgress(value=0.0, max=1648877.0), HTML(value='')))"
            ]
          },
          "metadata": {
            "tags": []
          }
        },
        {
          "output_type": "stream",
          "text": [
            "\n",
            "Extracting MNIST/raw/t10k-images-idx3-ubyte.gz to MNIST/raw\n",
            "\n",
            "Downloading http://yann.lecun.com/exdb/mnist/t10k-labels-idx1-ubyte.gz\n",
            "Failed to download (trying next):\n",
            "HTTP Error 503: Service Unavailable\n",
            "\n",
            "Downloading https://ossci-datasets.s3.amazonaws.com/mnist/t10k-labels-idx1-ubyte.gz\n",
            "Downloading https://ossci-datasets.s3.amazonaws.com/mnist/t10k-labels-idx1-ubyte.gz to MNIST/raw/t10k-labels-idx1-ubyte.gz\n"
          ],
          "name": "stdout"
        },
        {
          "output_type": "display_data",
          "data": {
            "application/vnd.jupyter.widget-view+json": {
              "model_id": "058fdb060ba94be193b5223b3ff016d0",
              "version_minor": 0,
              "version_major": 2
            },
            "text/plain": [
              "HBox(children=(FloatProgress(value=0.0, max=4542.0), HTML(value='')))"
            ]
          },
          "metadata": {
            "tags": []
          }
        },
        {
          "output_type": "stream",
          "text": [
            "\n",
            "Extracting MNIST/raw/t10k-labels-idx1-ubyte.gz to MNIST/raw\n",
            "\n",
            "Processing...\n",
            "Done!\n"
          ],
          "name": "stdout"
        },
        {
          "output_type": "stream",
          "text": [
            "/usr/local/lib/python3.7/dist-packages/torchvision/datasets/mnist.py:502: UserWarning: The given NumPy array is not writeable, and PyTorch does not support non-writeable tensors. This means you can write to the underlying (supposedly non-writeable) NumPy array using the tensor. You may want to copy the array to protect its data or make it writeable before converting it to a tensor. This type of warning will be suppressed for the rest of this program. (Triggered internally at  /pytorch/torch/csrc/utils/tensor_numpy.cpp:143.)\n",
            "  return torch.from_numpy(parsed.astype(m[2], copy=False)).view(*s)\n"
          ],
          "name": "stderr"
        }
      ]
    },
    {
      "cell_type": "code",
      "metadata": {
        "id": "UxOqVzZK-HMm"
      },
      "source": [
        "trainset = torch.utils.data.DataLoader(train,batch_size=10,shuffle=True)\n",
        "testset = torch.utils.data.DataLoader(test,batch_size=10,shuffle=True)\n",
        "#mnist is a hand drawn numbers dataset\n"
      ],
      "execution_count": null,
      "outputs": []
    },
    {
      "cell_type": "code",
      "metadata": {
        "colab": {
          "base_uri": "https://localhost:8080/"
        },
        "id": "fj315SQS_7OZ",
        "outputId": "0fa765c3-9a68-42d1-b2be-9bdd8ac0cb83"
      },
      "source": [
        "for data in trainset:\n",
        "  print(data)\n",
        "  break"
      ],
      "execution_count": null,
      "outputs": [
        {
          "output_type": "stream",
          "text": [
            "[tensor([[[[0., 0., 0.,  ..., 0., 0., 0.],\n",
            "          [0., 0., 0.,  ..., 0., 0., 0.],\n",
            "          [0., 0., 0.,  ..., 0., 0., 0.],\n",
            "          ...,\n",
            "          [0., 0., 0.,  ..., 0., 0., 0.],\n",
            "          [0., 0., 0.,  ..., 0., 0., 0.],\n",
            "          [0., 0., 0.,  ..., 0., 0., 0.]]],\n",
            "\n",
            "\n",
            "        [[[0., 0., 0.,  ..., 0., 0., 0.],\n",
            "          [0., 0., 0.,  ..., 0., 0., 0.],\n",
            "          [0., 0., 0.,  ..., 0., 0., 0.],\n",
            "          ...,\n",
            "          [0., 0., 0.,  ..., 0., 0., 0.],\n",
            "          [0., 0., 0.,  ..., 0., 0., 0.],\n",
            "          [0., 0., 0.,  ..., 0., 0., 0.]]],\n",
            "\n",
            "\n",
            "        [[[0., 0., 0.,  ..., 0., 0., 0.],\n",
            "          [0., 0., 0.,  ..., 0., 0., 0.],\n",
            "          [0., 0., 0.,  ..., 0., 0., 0.],\n",
            "          ...,\n",
            "          [0., 0., 0.,  ..., 0., 0., 0.],\n",
            "          [0., 0., 0.,  ..., 0., 0., 0.],\n",
            "          [0., 0., 0.,  ..., 0., 0., 0.]]],\n",
            "\n",
            "\n",
            "        ...,\n",
            "\n",
            "\n",
            "        [[[0., 0., 0.,  ..., 0., 0., 0.],\n",
            "          [0., 0., 0.,  ..., 0., 0., 0.],\n",
            "          [0., 0., 0.,  ..., 0., 0., 0.],\n",
            "          ...,\n",
            "          [0., 0., 0.,  ..., 0., 0., 0.],\n",
            "          [0., 0., 0.,  ..., 0., 0., 0.],\n",
            "          [0., 0., 0.,  ..., 0., 0., 0.]]],\n",
            "\n",
            "\n",
            "        [[[0., 0., 0.,  ..., 0., 0., 0.],\n",
            "          [0., 0., 0.,  ..., 0., 0., 0.],\n",
            "          [0., 0., 0.,  ..., 0., 0., 0.],\n",
            "          ...,\n",
            "          [0., 0., 0.,  ..., 0., 0., 0.],\n",
            "          [0., 0., 0.,  ..., 0., 0., 0.],\n",
            "          [0., 0., 0.,  ..., 0., 0., 0.]]],\n",
            "\n",
            "\n",
            "        [[[0., 0., 0.,  ..., 0., 0., 0.],\n",
            "          [0., 0., 0.,  ..., 0., 0., 0.],\n",
            "          [0., 0., 0.,  ..., 0., 0., 0.],\n",
            "          ...,\n",
            "          [0., 0., 0.,  ..., 0., 0., 0.],\n",
            "          [0., 0., 0.,  ..., 0., 0., 0.],\n",
            "          [0., 0., 0.,  ..., 0., 0., 0.]]]]), tensor([0, 4, 6, 7, 2, 3, 2, 2, 6, 4])]\n"
          ],
          "name": "stdout"
        }
      ]
    },
    {
      "cell_type": "code",
      "metadata": {
        "colab": {
          "base_uri": "https://localhost:8080/"
        },
        "id": "uUM8tFs_ALeE",
        "outputId": "c5c283d4-821b-4f1a-f158-cec0523ba2d7"
      },
      "source": [
        "x, y=data[0][0],data[1][0]\n",
        "print(y)"
      ],
      "execution_count": null,
      "outputs": [
        {
          "output_type": "stream",
          "text": [
            "tensor(0)\n"
          ],
          "name": "stdout"
        }
      ]
    },
    {
      "cell_type": "code",
      "metadata": {
        "colab": {
          "base_uri": "https://localhost:8080/"
        },
        "id": "doE1_g0-Ajty",
        "outputId": "be1f53bd-6b5e-49c0-fcc8-6306d71b999f"
      },
      "source": [
        "import matplotlib.pyplot as plt\n",
        "print(data[0][0].shape)"
      ],
      "execution_count": null,
      "outputs": [
        {
          "output_type": "stream",
          "text": [
            "torch.Size([1, 28, 28])\n"
          ],
          "name": "stdout"
        }
      ]
    },
    {
      "cell_type": "code",
      "metadata": {
        "colab": {
          "base_uri": "https://localhost:8080/",
          "height": 265
        },
        "id": "MerkECmUBIdy",
        "outputId": "626ee8d5-4de5-49ce-b73f-b03567362002"
      },
      "source": [
        "#reason to use torchvision is that the shape of data is different from our basic image\n",
        "plt.imshow(data[0][0].view(28,28))\n",
        "plt.show()"
      ],
      "execution_count": null,
      "outputs": [
        {
          "output_type": "display_data",
          "data": {
            "image/png": "[encoded data removed]",
            "text/plain": [
              "<Figure size 432x288 with 1 Axes>"
            ]
          },
          "metadata": {
            "tags": [],
            "needs_background": "light"
          }
        }
      ]
    },
    {
      "cell_type": "code",
      "metadata": {
        "id": "D2O7iHSoBjzS"
      },
      "source": [
        "#if a model can find a shorter path to minimize loss it will take it\n",
        "total =0\n",
        "counter_dict = {0:0,1:0,2:0,3:0,4:0,5:0,6:0,7:0,8:0,9:0}"
      ],
      "execution_count": null,
      "outputs": []
    },
    {
      "cell_type": "code",
      "metadata": {
        "colab": {
          "base_uri": "https://localhost:8080/"
        },
        "id": "FPdg4SYDCuOp",
        "outputId": "87565abc-a18c-4c63-d887-8b3d55268858"
      },
      "source": [
        "for data in trainset:\n",
        "  xs, ys = data\n",
        "  for y in ys:\n",
        "    counter_dict[int(y)]+=1\n",
        "    total+=1\n",
        "print(counter_dict)"
      ],
      "execution_count": null,
      "outputs": [
        {
          "output_type": "stream",
          "text": [
            "{0: 5923, 1: 6742, 2: 5958, 3: 6131, 4: 5842, 5: 5421, 6: 5918, 7: 6265, 8: 5851, 9: 5949}\n"
          ],
          "name": "stdout"
        }
      ]
    },
    {
      "cell_type": "code",
      "metadata": {
        "colab": {
          "base_uri": "https://localhost:8080/"
        },
        "id": "W5Fa45tLCwvQ",
        "outputId": "c0238549-59bf-49b6-a3ed-a1b1954d0bf9"
      },
      "source": [
        "for i in counter_dict:\n",
        "  print(f\"{i}:{counter_dict[i]/total*100}\")"
      ],
      "execution_count": null,
      "outputs": [
        {
          "output_type": "stream",
          "text": [
            "0:9.871666666666666\n",
            "1:11.236666666666666\n",
            "2:9.93\n",
            "3:10.218333333333334\n",
            "4:9.736666666666666\n",
            "5:9.035\n",
            "6:9.863333333333333\n",
            "7:10.441666666666666\n",
            "8:9.751666666666667\n",
            "9:9.915000000000001\n"
          ],
          "name": "stdout"
        }
      ]
    },
    {
      "cell_type": "markdown",
      "metadata": {
        "id": "6NF7oT4SDHPX"
      },
      "source": [
        "- 3 Building our Neural Network\n"
      ]
    },
    {
      "cell_type": "code",
      "metadata": {
        "id": "YtaNXEF0D9Ev"
      },
      "source": [
        "import torch.nn as nn\n",
        "import torch.nn.functional as F"
      ],
      "execution_count": null,
      "outputs": []
    },
    {
      "cell_type": "code",
      "metadata": {
        "colab": {
          "base_uri": "https://localhost:8080/"
        },
        "id": "Sx0bycBDETgB",
        "outputId": "18507764-98bb-43d2-987c-c10b88ec6b05"
      },
      "source": [
        "class Net(nn.Module):\n",
        "  def __init__(self):\n",
        "    super().__init__()\n",
        "    self.fc1 = nn.Linear(28*28, 64)\n",
        "    self.fc2 = nn.Linear(64, 64)\n",
        "    self.fc3 = nn.Linear(64, 64)\n",
        "    self.fc4 = nn.Linear(64, 10)\n",
        "\n",
        "  def forward(self,x):\n",
        "    x = F.relu(self.fc1(x))\n",
        "    x = F.relu(self.fc2(x))\n",
        "    x = F.relu(self.fc3(x))\n",
        "    x = self.fc4(x)\n",
        "    return F.log_softmax(x,dim=1)\n",
        "\n",
        "    \n",
        "\n",
        "\n",
        "\n",
        "net = Net()\n",
        "print(net)\n",
        "\n"
      ],
      "execution_count": null,
      "outputs": [
        {
          "output_type": "stream",
          "text": [
            "Net(\n",
            "  (fc1): Linear(in_features=784, out_features=64, bias=True)\n",
            "  (fc2): Linear(in_features=64, out_features=64, bias=True)\n",
            "  (fc3): Linear(in_features=64, out_features=64, bias=True)\n",
            "  (fc4): Linear(in_features=64, out_features=10, bias=True)\n",
            ")\n"
          ],
          "name": "stdout"
        }
      ]
    },
    {
      "cell_type": "code",
      "metadata": {
        "id": "goN7NffGFvWY"
      },
      "source": [
        "X = torch.rand((28,28))\n",
        "X = X.view(-1,28*28)"
      ],
      "execution_count": null,
      "outputs": []
    },
    {
      "cell_type": "code",
      "metadata": {
        "colab": {
          "base_uri": "https://localhost:8080/"
        },
        "id": "enr7UUTcIuQu",
        "outputId": "bf131d80-0edc-4312-b2d4-1b7a50f82711"
      },
      "source": [
        "X"
      ],
      "execution_count": null,
      "outputs": [
        {
          "output_type": "execute_result",
          "data": {
            "text/plain": [
              "tensor([[4.5626e-01, 3.9957e-01, 2.8550e-01, 1.4852e-01, 6.3084e-01, 1.8044e-01,\n",
              "         3.7197e-01, 9.0841e-01, 4.8536e-01, 5.9599e-01, 5.0829e-01, 7.4790e-01,\n",
              "         6.6839e-01, 1.1800e-01, 7.6773e-01, 9.1358e-01, 5.4384e-01, 6.4620e-01,\n",
              "         9.0265e-01, 3.1911e-01, 2.0386e-01, 1.3425e-01, 9.6284e-01, 8.3544e-02,\n",
              "         8.8479e-01, 2.1293e-01, 7.0855e-01, 7.5820e-01, 5.5018e-01, 9.4088e-01,\n",
              "         1.8804e-01, 9.2404e-01, 4.7406e-01, 7.8377e-01, 4.3023e-01, 6.3027e-01,\n",
              "         3.7555e-01, 2.8965e-01, 3.5049e-01, 4.3313e-01, 2.3660e-01, 9.1414e-01,\n",
              "         4.8942e-01, 1.2565e-02, 7.4119e-01, 2.4257e-01, 6.0627e-01, 9.4234e-01,\n",
              "         3.5327e-01, 6.1815e-01, 6.0458e-01, 9.9572e-01, 2.3579e-01, 4.8150e-01,\n",
              "         4.5882e-01, 3.7991e-01, 2.6906e-01, 7.5193e-01, 7.2348e-01, 3.7585e-01,\n",
              "         8.3428e-01, 4.7464e-01, 5.4286e-01, 5.8320e-01, 2.3792e-01, 4.7209e-01,\n",
              "         1.9593e-01, 9.5508e-01, 7.4543e-01, 7.5764e-02, 4.6720e-01, 3.1448e-01,\n",
              "         4.5971e-01, 1.3935e-01, 1.5475e-01, 1.9227e-01, 9.6047e-01, 9.4681e-01,\n",
              "         3.1327e-01, 5.6002e-01, 8.7949e-01, 9.0787e-01, 6.4208e-01, 1.7723e-01,\n",
              "         2.1578e-01, 4.1737e-01, 4.5082e-01, 5.1834e-01, 9.4690e-01, 6.5054e-01,\n",
              "         2.2710e-01, 7.6017e-01, 8.0589e-01, 4.5847e-01, 6.6448e-01, 3.9668e-01,\n",
              "         6.8480e-02, 9.1337e-01, 3.7437e-01, 1.9319e-01, 7.5354e-01, 2.1784e-01,\n",
              "         2.5273e-01, 5.1454e-01, 8.8721e-01, 9.9905e-01, 9.7779e-01, 2.0387e-01,\n",
              "         3.4118e-01, 8.7892e-01, 5.4948e-01, 7.3698e-01, 1.4987e-01, 4.7422e-01,\n",
              "         5.9545e-01, 9.9871e-01, 6.1978e-01, 5.1185e-01, 7.4293e-01, 3.9035e-01,\n",
              "         3.2868e-01, 1.4511e-01, 2.2710e-01, 9.6913e-01, 6.7071e-01, 1.8950e-02,\n",
              "         9.1902e-01, 4.8770e-01, 7.1185e-01, 7.1108e-01, 7.2762e-01, 5.1667e-01,\n",
              "         9.3526e-01, 9.1309e-01, 9.1879e-01, 7.1926e-01, 4.0915e-01, 7.1075e-01,\n",
              "         4.1383e-01, 2.0666e-01, 3.9510e-01, 1.3902e-01, 2.9625e-01, 8.0327e-01,\n",
              "         1.6624e-02, 9.8150e-01, 5.7342e-01, 6.6145e-01, 5.2309e-01, 6.7471e-01,\n",
              "         1.5196e-01, 9.5725e-02, 7.1800e-02, 9.7942e-01, 5.2084e-01, 3.3662e-01,\n",
              "         1.9917e-01, 8.5200e-01, 4.7671e-01, 8.6084e-01, 5.6877e-01, 2.7869e-01,\n",
              "         3.3402e-01, 4.6332e-02, 4.8312e-01, 5.4700e-01, 6.1784e-02, 7.4254e-02,\n",
              "         1.2828e-01, 7.3678e-01, 2.9448e-01, 1.7938e-01, 5.3895e-01, 3.3519e-01,\n",
              "         2.4229e-01, 9.4561e-01, 4.2622e-01, 3.9046e-01, 2.9846e-01, 2.0553e-01,\n",
              "         5.5818e-01, 2.9694e-01, 2.8409e-01, 4.3765e-01, 9.8649e-01, 6.6652e-01,\n",
              "         2.7738e-01, 9.8219e-01, 5.2888e-01, 4.4628e-01, 8.2167e-01, 8.7124e-01,\n",
              "         9.1331e-01, 5.3350e-01, 3.3440e-01, 5.4865e-01, 8.2036e-01, 3.8356e-01,\n",
              "         6.4311e-01, 1.1514e-01, 2.6213e-01, 4.0277e-01, 2.9202e-01, 3.6821e-01,\n",
              "         6.3291e-01, 5.7379e-01, 3.4521e-02, 9.3803e-01, 7.8644e-01, 8.4948e-01,\n",
              "         8.9831e-01, 2.6320e-01, 7.5199e-01, 8.4019e-01, 6.5901e-02, 1.0585e-01,\n",
              "         8.2880e-01, 9.1902e-01, 6.2432e-01, 9.5167e-01, 4.1889e-01, 3.5452e-01,\n",
              "         7.1468e-01, 9.8349e-01, 3.4699e-01, 1.1626e-01, 1.7128e-01, 3.4984e-01,\n",
              "         6.2952e-01, 6.6528e-01, 2.2551e-01, 6.4536e-01, 4.6203e-01, 6.1352e-01,\n",
              "         1.2832e-01, 4.3935e-01, 8.9192e-01, 9.5830e-01, 7.8192e-01, 7.5109e-01,\n",
              "         6.9121e-01, 2.1177e-01, 5.6845e-01, 7.4482e-01, 8.7856e-01, 7.4553e-01,\n",
              "         8.2121e-01, 5.4942e-02, 8.7981e-01, 3.9469e-01, 4.0287e-01, 4.5989e-01,\n",
              "         4.2720e-01, 6.0565e-02, 6.2643e-01, 6.0144e-01, 7.9250e-01, 5.0788e-02,\n",
              "         8.8555e-01, 7.1689e-01, 7.3537e-01, 7.6309e-01, 4.1277e-01, 6.6169e-01,\n",
              "         6.4074e-01, 3.8490e-01, 5.8024e-01, 8.8675e-01, 3.0254e-01, 6.0654e-01,\n",
              "         7.6227e-01, 7.8833e-01, 7.0363e-01, 7.9568e-01, 8.7135e-01, 5.0530e-01,\n",
              "         9.0634e-01, 3.1612e-01, 7.7933e-01, 4.0944e-01, 9.4015e-01, 4.6646e-01,\n",
              "         9.6870e-01, 2.7837e-01, 7.9344e-01, 5.7904e-01, 3.0005e-01, 4.7656e-01,\n",
              "         4.8614e-01, 2.9027e-01, 1.4922e-01, 6.2286e-02, 5.7946e-01, 7.7965e-01,\n",
              "         3.7366e-02, 7.8235e-01, 5.1471e-01, 2.5360e-01, 9.7654e-01, 5.0458e-01,\n",
              "         2.3642e-01, 2.5865e-01, 5.7081e-01, 9.1978e-01, 2.8643e-01, 8.9628e-01,\n",
              "         9.9881e-01, 7.7417e-01, 7.9804e-01, 8.7237e-01, 9.7594e-01, 3.6503e-01,\n",
              "         5.4600e-01, 5.5802e-01, 7.2109e-01, 9.4981e-01, 7.9638e-01, 3.7059e-01,\n",
              "         2.0391e-01, 7.7088e-02, 1.3984e-02, 7.8902e-01, 1.2371e-02, 4.7362e-01,\n",
              "         7.2806e-01, 9.9010e-01, 3.4429e-01, 8.3611e-01, 3.0687e-01, 5.4464e-01,\n",
              "         2.9018e-01, 2.2583e-01, 9.6053e-01, 1.6511e-01, 2.0456e-01, 2.8422e-01,\n",
              "         4.7309e-01, 2.5653e-01, 7.7374e-01, 1.3428e-01, 7.1202e-01, 3.5722e-01,\n",
              "         5.7510e-01, 9.1197e-01, 4.6089e-01, 3.5429e-01, 5.7754e-01, 2.4127e-01,\n",
              "         1.2692e-01, 3.1958e-01, 3.4991e-01, 8.6017e-01, 5.5798e-01, 9.3145e-01,\n",
              "         1.2555e-01, 9.1661e-01, 4.1495e-01, 8.4563e-01, 8.2983e-01, 1.0284e-01,\n",
              "         2.8106e-01, 4.4457e-01, 1.3658e-01, 6.1820e-01, 6.9637e-02, 9.6942e-01,\n",
              "         4.8855e-01, 2.4242e-03, 6.2219e-01, 3.6776e-01, 6.5985e-01, 3.1357e-01,\n",
              "         6.9492e-02, 5.7777e-01, 9.7475e-01, 9.7394e-01, 8.6165e-01, 6.3030e-01,\n",
              "         4.2849e-01, 2.3899e-01, 9.3877e-01, 1.7972e-01, 8.2667e-01, 1.3876e-01,\n",
              "         7.6551e-01, 8.5656e-01, 5.8987e-01, 7.1233e-01, 3.8836e-01, 7.3472e-01,\n",
              "         5.7679e-01, 8.5368e-01, 4.8593e-01, 7.9773e-01, 6.6870e-01, 9.1515e-01,\n",
              "         9.1353e-01, 9.9816e-01, 5.2107e-01, 9.8201e-01, 4.7588e-01, 8.9827e-01,\n",
              "         6.5600e-01, 3.7679e-01, 1.5861e-01, 6.2197e-01, 7.0910e-01, 8.3569e-01,\n",
              "         3.0091e-01, 3.3991e-01, 8.5094e-01, 9.1855e-01, 9.5796e-01, 7.7608e-01,\n",
              "         6.3639e-01, 6.0121e-01, 3.8226e-01, 6.7268e-01, 9.1536e-01, 7.9380e-01,\n",
              "         2.3331e-01, 5.6538e-01, 6.3327e-01, 6.3715e-01, 7.6988e-01, 5.1995e-01,\n",
              "         3.7827e-01, 5.3378e-01, 1.2746e-01, 2.6519e-01, 8.3526e-01, 7.3634e-02,\n",
              "         1.2703e-02, 4.6926e-01, 5.2754e-01, 7.6920e-02, 5.6854e-02, 9.3602e-01,\n",
              "         7.7311e-01, 4.0147e-01, 3.6960e-01, 9.3134e-01, 2.4984e-01, 2.6027e-01,\n",
              "         8.1766e-01, 5.7945e-01, 3.9705e-01, 6.8248e-01, 8.1106e-01, 1.4881e-01,\n",
              "         6.0812e-01, 2.5667e-01, 6.7241e-02, 2.1334e-01, 2.4355e-01, 6.3395e-01,\n",
              "         8.7531e-01, 4.4451e-01, 6.9067e-01, 3.5714e-01, 6.4208e-01, 2.1619e-01,\n",
              "         6.5033e-01, 8.1027e-01, 2.6965e-01, 3.9827e-01, 3.4103e-01, 8.3225e-01,\n",
              "         4.9595e-01, 5.5027e-01, 7.1852e-01, 3.1838e-01, 2.7001e-01, 1.1758e-01,\n",
              "         1.2683e-01, 4.5371e-01, 5.4825e-01, 6.2469e-01, 1.0943e-01, 8.2581e-01,\n",
              "         5.0174e-01, 4.5188e-01, 4.5341e-01, 9.5899e-01, 7.6310e-01, 3.0764e-01,\n",
              "         7.5623e-01, 7.4992e-01, 1.2635e-01, 7.4309e-02, 3.3387e-01, 3.8686e-01,\n",
              "         8.7912e-01, 7.1812e-01, 9.1236e-01, 9.7181e-01, 1.3098e-01, 6.6244e-01,\n",
              "         9.8352e-01, 8.5327e-01, 7.5865e-01, 1.6041e-01, 1.0598e-01, 3.0845e-01,\n",
              "         4.7516e-01, 4.8018e-01, 2.5651e-01, 7.4705e-01, 8.8537e-01, 4.7536e-01,\n",
              "         8.0146e-01, 7.8744e-02, 5.2678e-01, 5.3169e-01, 3.2187e-01, 5.7499e-01,\n",
              "         5.1601e-01, 5.8076e-01, 5.8915e-01, 4.7445e-01, 3.2028e-01, 5.4953e-01,\n",
              "         4.0948e-01, 1.4327e-01, 4.3979e-01, 2.8798e-02, 6.2723e-01, 8.5496e-01,\n",
              "         8.7468e-01, 9.3969e-01, 1.0929e-01, 9.2192e-01, 1.9370e-01, 9.9431e-01,\n",
              "         2.6125e-01, 8.9653e-01, 1.1092e-01, 9.1726e-01, 5.8893e-01, 6.6224e-01,\n",
              "         5.0431e-01, 5.2072e-01, 1.8818e-01, 1.5028e-01, 2.1832e-01, 9.5443e-01,\n",
              "         7.5284e-02, 3.7063e-01, 8.9228e-04, 9.8850e-01, 1.8978e-01, 7.2771e-01,\n",
              "         8.1786e-01, 1.1527e-01, 5.2908e-01, 8.0704e-01, 4.5005e-01, 5.7471e-01,\n",
              "         7.1069e-01, 7.8577e-01, 6.3115e-01, 9.0696e-01, 8.7904e-01, 8.9070e-01,\n",
              "         7.7836e-01, 2.5102e-01, 3.3773e-01, 4.5175e-01, 6.6457e-01, 4.8796e-01,\n",
              "         2.9215e-01, 4.1734e-01, 8.8220e-01, 5.6974e-02, 5.2111e-02, 4.8351e-01,\n",
              "         7.3668e-01, 4.5936e-01, 2.7397e-01, 8.6419e-01, 6.8751e-01, 1.4905e-01,\n",
              "         9.5487e-01, 7.4550e-01, 2.6172e-01, 6.6061e-01, 7.0464e-01, 4.4138e-01,\n",
              "         3.7034e-01, 1.9258e-01, 4.2032e-01, 7.0937e-01, 9.9448e-01, 6.1716e-01,\n",
              "         6.8280e-01, 1.6897e-02, 6.1546e-01, 7.7526e-01, 9.5717e-01, 5.8018e-01,\n",
              "         3.2491e-01, 5.4778e-01, 7.0664e-01, 7.1590e-01, 2.3383e-01, 1.2660e-01,\n",
              "         1.1582e-01, 5.7914e-01, 7.9164e-01, 7.2292e-01, 5.6264e-01, 6.1127e-02,\n",
              "         8.8757e-01, 1.3461e-01, 4.6495e-01, 5.3086e-01, 9.9503e-01, 9.4713e-01,\n",
              "         3.4683e-01, 8.4306e-01, 6.8049e-01, 6.3584e-02, 3.1484e-01, 9.4899e-01,\n",
              "         3.2628e-01, 3.1751e-02, 9.7111e-01, 6.3181e-01, 6.4395e-01, 8.4873e-01,\n",
              "         4.2658e-01, 9.8891e-01, 6.1103e-02, 4.0651e-01, 8.5560e-01, 8.3486e-01,\n",
              "         7.0822e-01, 7.1066e-01, 5.1922e-01, 5.7107e-01, 8.4130e-01, 5.0570e-01,\n",
              "         4.3707e-01, 8.9366e-01, 9.4995e-01, 9.5780e-01, 3.4109e-01, 5.1269e-01,\n",
              "         2.4691e-01, 7.1716e-01, 7.2473e-01, 4.7726e-01, 2.7462e-01, 8.4035e-01,\n",
              "         2.7696e-01, 3.1360e-01, 3.0320e-01, 1.7482e-01, 6.7596e-01, 9.3106e-01,\n",
              "         1.2177e-01, 1.3680e-01, 3.4416e-01, 3.3113e-01, 2.8209e-01, 6.9566e-01,\n",
              "         4.2509e-01, 1.3988e-01, 5.5064e-01, 2.7555e-01, 9.1483e-01, 2.9487e-01,\n",
              "         2.8167e-01, 1.6657e-01, 3.6580e-01, 5.5054e-01, 9.1863e-01, 3.5162e-01,\n",
              "         7.5392e-03, 4.4441e-01, 5.8346e-01, 2.9220e-01, 6.8803e-01, 6.3238e-01,\n",
              "         8.8737e-01, 7.2416e-01, 1.3242e-02, 8.3292e-01, 3.7833e-01, 8.9020e-01,\n",
              "         9.5562e-01, 5.3411e-01, 1.7943e-01, 8.1448e-01, 5.0958e-02, 7.6207e-01,\n",
              "         5.0879e-01, 4.7207e-01, 6.1275e-01, 1.1332e-01, 5.0645e-01, 3.2664e-01,\n",
              "         4.0615e-01, 4.3522e-01, 2.8316e-01, 9.9225e-01, 6.0575e-01, 8.8730e-01,\n",
              "         5.1165e-02, 5.0640e-01, 3.7879e-01, 9.3320e-01, 1.5766e-01, 7.1646e-01,\n",
              "         3.0737e-01, 5.9907e-02, 2.0740e-01, 1.3499e-01, 4.6313e-01, 9.0887e-01,\n",
              "         1.6418e-01, 9.4197e-01, 5.2164e-01, 9.3517e-01, 2.5643e-01, 5.0124e-01,\n",
              "         7.6672e-02, 9.2741e-01, 1.5937e-01, 6.3161e-03, 5.0424e-01, 7.7965e-01,\n",
              "         2.8151e-01, 1.8209e-01, 4.2080e-01, 7.1731e-01, 9.6114e-01, 6.8506e-01,\n",
              "         5.5644e-01, 7.7181e-01, 5.4075e-02, 5.5195e-01, 3.8639e-01, 8.2566e-01,\n",
              "         6.1057e-01, 5.0058e-01, 8.4832e-01, 9.7187e-01, 4.4175e-01, 2.5294e-01,\n",
              "         9.5450e-01, 2.0571e-02, 3.6998e-01, 7.1871e-01, 6.4837e-01, 5.7045e-01,\n",
              "         2.6087e-01, 2.1545e-01, 5.5282e-01, 5.5848e-01, 1.6346e-01, 6.1225e-01,\n",
              "         1.1568e-01, 6.4652e-01, 8.2118e-01, 9.7251e-01, 7.1165e-01, 2.9742e-01,\n",
              "         5.1383e-01, 3.3769e-01, 1.2207e-01, 3.5144e-01, 3.9314e-01, 6.0905e-01,\n",
              "         6.3150e-01, 2.3945e-01, 7.3906e-01, 7.8964e-01, 6.7093e-01, 7.9935e-01,\n",
              "         3.9825e-02, 7.9380e-01, 9.3937e-01, 5.9883e-01]])"
            ]
          },
          "metadata": {
            "tags": []
          },
          "execution_count": 30
        }
      ]
    },
    {
      "cell_type": "code",
      "metadata": {
        "id": "erI3_ekeIulb"
      },
      "source": [
        "output = net(X)"
      ],
      "execution_count": null,
      "outputs": []
    },
    {
      "cell_type": "code",
      "metadata": {
        "colab": {
          "base_uri": "https://localhost:8080/"
        },
        "id": "L6dH9rfYIzov",
        "outputId": "9caa532a-e61e-4b9b-8f5a-a7502019bd0a"
      },
      "source": [
        "output"
      ],
      "execution_count": null,
      "outputs": [
        {
          "output_type": "execute_result",
          "data": {
            "text/plain": [
              "tensor([[-2.4220, -2.3696, -2.2841, -2.4136, -2.1946, -2.2505, -2.1371, -2.3418,\n",
              "         -2.3727, -2.2803]], grad_fn=<LogSoftmaxBackward>)"
            ]
          },
          "metadata": {
            "tags": []
          },
          "execution_count": 32
        }
      ]
    },
    {
      "cell_type": "code",
      "metadata": {
        "id": "b0p7W2y7JU7K"
      },
      "source": [
        ""
      ],
      "execution_count": null,
      "outputs": []
    }
  ]
}